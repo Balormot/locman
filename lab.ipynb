{
  "nbformat": 4,
  "nbformat_minor": 0,
  "metadata": {
    "colab": {
      "provenance": []
    },
    "kernelspec": {
      "name": "python3",
      "display_name": "Python 3"
    },
    "language_info": {
      "name": "python"
    }
  },
  "cells": [
    {
      "cell_type": "code",
      "execution_count": null,
      "metadata": {
        "colab": {
          "base_uri": "https://localhost:8080/"
        },
        "id": "JuTwDCOnROye",
        "outputId": "289ce3a3-f74a-44bd-e1a4-64fdfbaa32cf"
      },
      "outputs": [
        {
          "output_type": "stream",
          "name": "stdout",
          "text": [
            "Введите точность \n",
            "0.123\n",
            "Это  0  итерация,\n",
            "x  0 =  19.500663626714143\n",
            "Разница |x(k)-x(k-1)|=  80.49933637328586\n",
            "Это  1  итерация,\n",
            "x  1 =  3.4903004126590744\n",
            "Разница |x(k)-x(k-1)|=  16.01036321405507\n",
            "Это  2  итерация,\n",
            "x  2 =  1.2462737669284203\n",
            "Разница |x(k)-x(k-1)|=  2.244026645730654\n",
            "Это  3  итерация,\n",
            "x  3 =  1.2978700778610552\n",
            "Разница |x(k)-x(k-1)|=  0.05159631093263495\n",
            "Ответ x= 1.0\n"
          ]
        }
      ],
      "source": [
        "\n",
        "import numpy\n",
        "import numpy as np\n",
        "from numpy import sqrt,log\n",
        "\n",
        "def func(k):\n",
        " return 2-sqrt(k**3)-2*log(k)\n",
        "\n",
        "def prfunc(k):\n",
        " return (-3/2)*sqrt(k)-2/k\n",
        "\n",
        "def dbprfunc(k):\n",
        " return (2/k**2)-3/(4*sqrt(k))\n",
        "\n",
        "e=float(input(\"Введите точность \\n\"))\n",
        "dx=100\n",
        "k=0\n",
        "d=0\n",
        "x=0\n",
        "while(True):\n",
        "\n",
        " x=dx-(2*func(dx)*prfunc(dx))/(2*(prfunc(dx)**2)-func(dx)*dbprfunc(dx))\n",
        " k=abs(x-dx)\n",
        " print(\"Это \",d,\" итерация,\")\n",
        " print(\"x \",d,\"= \",x)\n",
        " print(\"Разница |x(k)-x(k-1)|= \", k)\n",
        " dx=x\n",
        " d+=1\n",
        " if(k<e):\n",
        "  break\n",
        "e=int(abs(np.log10(e)))\n",
        "x=np.round_(x,e)\n",
        "print(\"Ответ x=\",x)"
      ]
    }
  ]
}